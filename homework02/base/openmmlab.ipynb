{
 "cells": [
  {
   "cell_type": "code",
   "execution_count": null,
   "id": "0740ab32-4066-42cc-8057-9f6a37f28ed7",
   "metadata": {
    "tags": []
   },
   "outputs": [],
   "source": [
    "import torch\n",
    "import mmcv\n",
    "import mmdet"
   ]
  },
  {
   "cell_type": "code",
   "execution_count": null,
   "id": "0877da5c-3541-48ef-861a-5d54cf1e8fd1",
   "metadata": {
    "tags": []
   },
   "outputs": [],
   "source": [
    "!pip install openmim"
   ]
  },
  {
   "cell_type": "code",
   "execution_count": null,
   "id": "bc088b52-38c5-4df8-90b8-533d8794e284",
   "metadata": {
    "tags": []
   },
   "outputs": [],
   "source": [
    "!mim install mmdet"
   ]
  },
  {
   "cell_type": "code",
   "execution_count": null,
   "id": "95f53e26-5db2-4ff3-bbac-c9b84534fc87",
   "metadata": {
    "tags": []
   },
   "outputs": [],
   "source": [
    "!mim download mmdet --config mask_rcnn_r50_fpn_2x_coco --dest ."
   ]
  },
  {
   "cell_type": "code",
   "execution_count": null,
   "id": "36fd5189-93bd-4adb-bb3e-05be4279cf18",
   "metadata": {},
   "outputs": [],
   "source": [
    "from mmdet.apis import init_detector,inference_detector,show_result_pyplot"
   ]
  },
  {
   "cell_type": "code",
   "execution_count": null,
   "id": "e08f5281-335f-4d8c-99db-95463c7360db",
   "metadata": {
    "tags": []
   },
   "outputs": [],
   "source": [
    "config_file = 'mask_rcnn_r50_fpn_2x_coco.py'\n",
    "checkpoint_file = 'mask_rcnn_r50_fpn_2x_coco_bbox_mAP-0.392__segm_mAP-0.354_20200505_003907-3e542a40.pth'\n",
    "# help(init_detector)\n",
    "model = init_detector(config_file,checkpoint_file)"
   ]
  },
  {
   "cell_type": "code",
   "execution_count": null,
   "id": "b8f076bf-48a3-4b39-be82-a670433a3b13",
   "metadata": {
    "tags": []
   },
   "outputs": [],
   "source": [
    "result = inference_detector(model,'/input0/train/12037308314_e16fb3a0f7_k.jpg')"
   ]
  },
  {
   "cell_type": "code",
   "execution_count": null,
   "id": "88532144-d88c-44cb-9c5e-7ad8eb13a4aa",
   "metadata": {
    "tags": []
   },
   "outputs": [],
   "source": [
    "show_result_pyplot(model,'/input0/train/12037308314_e16fb3a0f7_k.jpg',result)"
   ]
  },
  {
   "cell_type": "code",
   "execution_count": null,
   "id": "7fce2ce7-63bd-481d-a97a-56ee2bd1ad8c",
   "metadata": {
    "tags": []
   },
   "outputs": [],
   "source": [
    "!mim download mmdet --config yolov3_mobilenetv2_320_300e_coco --dest ."
   ]
  },
  {
   "cell_type": "code",
   "execution_count": null,
   "id": "98f82bad-fe92-4435-87e7-246042323740",
   "metadata": {
    "tags": []
   },
   "outputs": [],
   "source": [
    "!mim train mmdet yolov3_mobilenetv2_320_300e_balloon.py"
   ]
  },
  {
   "cell_type": "code",
   "execution_count": null,
   "id": "7d0502e3-f5ce-4ba2-a752-f90c67c2338d",
   "metadata": {},
   "outputs": [],
   "source": [
    "config_file = 'yolov3_mobilenetv2_320_300e_balloon.py'\n",
    "checkpoint_file = 'work_dirs/yolov3_mobilenetv2_320_300e_balloon/latest.pth'\n",
    "# help(init_detector)\n",
    "model = init_detector(config_file,checkpoint_file)"
   ]
  },
  {
   "cell_type": "code",
   "execution_count": null,
   "id": "5e685730-36b3-4494-8321-196d2b0c1680",
   "metadata": {
    "tags": []
   },
   "outputs": [],
   "source": [
    "result = inference_detector(model,'/input0/train/120853323_d4788431b9_b.jpg')\n",
    "show_result_pyplot(model,'/input0/train/120853323_d4788431b9_b.jpg',result)"
   ]
  },
  {
   "cell_type": "code",
   "execution_count": null,
   "id": "d0492b38-f574-4cf6-afac-7634ffb10f0e",
   "metadata": {
    "tags": []
   },
   "outputs": [],
   "source": [
    "!mim train mmdet mask_rcnn_r50_fpn_2x_balloon.py"
   ]
  },
  {
   "cell_type": "code",
   "execution_count": null,
   "id": "9db300b5-6258-449b-954d-2a4226b843a8",
   "metadata": {},
   "outputs": [],
   "source": [
    "config_file = 'mask_rcnn_r50_fpn_2x_balloon.py'\n",
    "checkpoint_file = 'work_dirs/mask_rcnn_r50_fpn_2x_balloon/latest.pth'\n",
    "# help(init_detector)\n",
    "model = init_detector(config_file,checkpoint_file)"
   ]
  },
  {
   "cell_type": "code",
   "execution_count": null,
   "id": "68c9071e-b692-4041-a1f5-e429b3882325",
   "metadata": {
    "tags": []
   },
   "outputs": [],
   "source": [
    "result = inference_detector(model,'/input0/train/120853323_d4788431b9_b.jpg')\n",
    "show_result_pyplot(model,'/input0/train/120853323_d4788431b9_b.jpg',result)"
   ]
  },
  {
   "cell_type": "code",
   "execution_count": null,
   "id": "b37e3892-978f-41b2-b175-5fbaf351c202",
   "metadata": {
    "tags": []
   },
   "outputs": [],
   "source": [
    "!python color_splash.py"
   ]
  },
  {
   "cell_type": "code",
   "execution_count": null,
   "id": "604af57d-2f79-4dc3-9b90-c244bb02fe0f",
   "metadata": {},
   "outputs": [],
   "source": []
  }
 ],
 "metadata": {
  "kernelspec": {
   "display_name": "Python 3 (ipykernel)",
   "language": "python",
   "name": "python3"
  },
  "language_info": {
   "codemirror_mode": {
    "name": "ipython",
    "version": 3
   },
   "file_extension": ".py",
   "mimetype": "text/x-python",
   "name": "python",
   "nbconvert_exporter": "python",
   "pygments_lexer": "ipython3",
   "version": "3.8.13"
  }
 },
 "nbformat": 4,
 "nbformat_minor": 5
}
